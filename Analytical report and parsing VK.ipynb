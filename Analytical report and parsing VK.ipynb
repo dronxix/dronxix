{
  "cells": [
    {
      "cell_type": "markdown",
      "metadata": {
        "id": "Fd3_VqqaHVAN"
      },
      "source": [
        "# Курсовая работа № 2\n",
        "## Аналитика. Начальный уровень\n",
        "\n",
        "Курсовая работа состоит из двух частей – обязательной и дополнительной. **Для зачета необходимо выполнение только первой части.** Выполнение второй части может потребовать дополнительные знания Python.\n",
        "\n",
        "- [Часть первая](#Часть-первая)\n",
        "- [Часть вторая](#Часть-вторая)"
      ]
    },
    {
      "cell_type": "markdown",
      "metadata": {
        "id": "v_LX23K6HVAQ"
      },
      "source": [
        "## Часть первая\n",
        "\n",
        "\n",
        "Перед вами стоит задача – подготовить аналитический отчет для HR-отдела. На основании проведенной аналитики предполагается составить рекомендации для отдела кадров по стратегии набора персонала, а также по взаимодействию с уже имеющимися сотрудниками.\n",
        "<br><br> В базе данных лежит набор таблиц, которые содержат данные о сотрудниках вымышленной компании.\n",
        "Сделайте обзор штата сотрудников компании. Составьте набор предметов исследования, а затем проверьте их на данных. Вся аналитика должна быть выполена с помощью SQL. Впоследствии данные можно визуализировать, однако финальные датафреймы для графиков также должны быть подготовлены с помощью SQL. <br><br>\n",
        "\n",
        "Примеры гипотез:\n",
        "1. Есть зависимость между `perfomance score` и тем, под чьим руководством работает сотрудник.\n",
        "2. Есть зависимость между продолжительностью работы в компании и семейным положением сотрудника.\n",
        "2. Есть зависимость между продолжительностью работы в компании и возрастом сотрудника.\n",
        "\n",
        "<br><br>\n",
        "Параметры для подключения следующие: хост – `dsstudents.skillbox.ru`, порт – `5432`, имя базы данных – `human_resources`, пользователь – `readonly`, пароль – `6hajV34RTQfmxhS`. Таблицы, доступные для анализа, – `hr_dataset`, `production_staff`, `recruiting_costs`, `salary_grid`."
      ]
    },
    {
      "cell_type": "code",
      "execution_count": null,
      "metadata": {
        "colab": {
          "base_uri": "https://localhost:8080/",
          "height": 35
        },
        "id": "7b1vJYVrHVAR",
        "outputId": "fc1b572c-2361-4273-f105-f2ea209d99a2"
      },
      "outputs": [
        {
          "name": "stdout",
          "output_type": "stream",
          "text": [
            "Database opened successfully\n",
            "['id', 'Employee Name', 'Employee Number', 'marriedid', 'maritalstatusid', 'genderid', 'empstatus_id', 'deptid', 'perf_scoreid', 'age', 'Pay Rate', 'state', 'zip', 'dob', 'sex', 'maritaldesc', 'citizendesc', 'Hispanic/Latino', 'racedesc', 'Date of Hire', 'Days Employed', 'Date of Termination', 'Reason For Term', 'Employment Status', 'department', 'position', 'Manager Name', 'Employee Source', 'Performance Score']\n"
          ]
        }
      ],
      "source": [
        "import numpy as np\n",
        "import pandas as pd\n",
        "import matplotlib.pyplot as plt\n",
        "import psycopg2 as psycopg2\n",
        "from psycopg2 import OperationalError\n",
        "\n",
        "con = psycopg2.connect(\n",
        "  database=\"human_resources\", \n",
        "  user=\"readonly\", \n",
        "  password=\"6hajV34RTQfmxhS\", \n",
        "  host=\"dsstudents.skillbox.ru\", \n",
        "  port=\"5432\"\n",
        ") \n",
        " \n",
        "print(\"Database opened successfully\")\n",
        "cur = con.cursor()  \n",
        "cur.execute(\"select column_name,data_type from information_schema.columns where table_name = 'hr_dataset'\")\n",
        "df_hr_index = pd.DataFrame(cur.fetchall())\n",
        "hr_in_l = df_hr_index[0].tolist()\n",
        "\n",
        "cur.execute('select * from hr_dataset')\n",
        "df_hr=pd.DataFrame(cur.fetchall())\n",
        "df_hr.columns = hr_in_l\n",
        "\n",
        "cur.execute(\"select column_name,data_type from information_schema.columns where table_name = 'production_staff'\")\n",
        "df_pr_index = pd.DataFrame(cur.fetchall())\n",
        "pr_in_l = df_pr_index[0].tolist()\n",
        "\n",
        "cur.execute('select * from production_staff')\n",
        "df_pr = pd.DataFrame(cur.fetchall())\n",
        "df_pr.columns = pr_in_l\n",
        "\n",
        "cur.execute(\"select column_name,data_type from information_schema.columns where table_name = 'recruiting_costs'\")\n",
        "df_rc_index = pd.DataFrame(cur.fetchall())\n",
        "rc_in_l = df_rc_index[0].tolist()\n",
        "\n",
        "cur.execute('select * from recruiting_costs')\n",
        "df_rc = pd.DataFrame(cur.fetchall())\n",
        "df_rc.columns = rc_in_l\n",
        "\n",
        "cur.execute(\"select column_name,data_type from information_schema.columns where table_name = 'salary_grid'\")\n",
        "df_sg_index = pd.DataFrame(cur.fetchall())\n",
        "sg_in_l = df_sg_index[0].tolist()\n",
        "\n",
        "cur.execute('select * from salary_grid')\n",
        "df_sg = pd.DataFrame(cur.fetchall())\n",
        "df_sg.columns = sg_in_l\n",
        "df_hr.head()\n",
        "#df_rc.head()\n",
        "#df_pr.head()\n",
        "#df_sg.head()\n",
        "print(df_hr.columns.tolist())"
      ]
    },
    {
      "cell_type": "code",
      "execution_count": null,
      "metadata": {
        "id": "-N-qFl3ebTzB",
        "outputId": "a9e72d84-d274-4933-facd-1b739c154310"
      },
      "outputs": [
        {
          "data": {
            "text/html": [
              "<div>\n",
              "<style scoped>\n",
              "    .dataframe tbody tr th:only-of-type {\n",
              "        vertical-align: middle;\n",
              "    }\n",
              "\n",
              "    .dataframe tbody tr th {\n",
              "        vertical-align: top;\n",
              "    }\n",
              "\n",
              "    .dataframe thead th {\n",
              "        text-align: right;\n",
              "    }\n",
              "</style>\n",
              "<table border=\"1\" class=\"dataframe\">\n",
              "  <thead>\n",
              "    <tr style=\"text-align: right;\">\n",
              "      <th></th>\n",
              "      <th>0</th>\n",
              "      <th>1</th>\n",
              "    </tr>\n",
              "  </thead>\n",
              "  <tbody>\n",
              "    <tr>\n",
              "      <th>0</th>\n",
              "      <td>Exceptional</td>\n",
              "      <td>9</td>\n",
              "    </tr>\n",
              "    <tr>\n",
              "      <th>1</th>\n",
              "      <td>PIP</td>\n",
              "      <td>9</td>\n",
              "    </tr>\n",
              "    <tr>\n",
              "      <th>2</th>\n",
              "      <td>Needs Improvement</td>\n",
              "      <td>15</td>\n",
              "    </tr>\n",
              "    <tr>\n",
              "      <th>3</th>\n",
              "      <td>Exceeds</td>\n",
              "      <td>28</td>\n",
              "    </tr>\n",
              "    <tr>\n",
              "      <th>4</th>\n",
              "      <td>90-day meets</td>\n",
              "      <td>31</td>\n",
              "    </tr>\n",
              "    <tr>\n",
              "      <th>5</th>\n",
              "      <td>N/A- too early to review</td>\n",
              "      <td>37</td>\n",
              "    </tr>\n",
              "    <tr>\n",
              "      <th>6</th>\n",
              "      <td>Fully Meets</td>\n",
              "      <td>181</td>\n",
              "    </tr>\n",
              "  </tbody>\n",
              "</table>\n",
              "</div>"
            ],
            "text/plain": [
              "                          0    1\n",
              "0               Exceptional    9\n",
              "1                       PIP    9\n",
              "2         Needs Improvement   15\n",
              "3                   Exceeds   28\n",
              "4              90-day meets   31\n",
              "5  N/A- too early to review   37\n",
              "6               Fully Meets  181"
            ]
          },
          "execution_count": 16,
          "metadata": {},
          "output_type": "execute_result"
        }
      ],
      "source": [
        "cur.execute(\n",
        "    '''SELECT \"Performance Score\", COUNT(*) FROM hr_dataset GROUP BY \"Performance Score\" ORDER BY COUNT  \n",
        "    '''\n",
        ")\n",
        "dep = pd.DataFrame(cur.fetchall())\n",
        "dep\n"
      ]
    },
    {
      "cell_type": "markdown",
      "metadata": {
        "id": "2hvy4l7ObTzC"
      },
      "source": [
        "Проверяем гипотезу, что сть зависимость между perfomance score и тем, под чьим руководством работает сотрудник.\n",
        "Для этого введем коэффициент для сравнения результата приема на работу. Этим коэффициентом будет отношение \"Fully Meets\" к общему числу прошедших кондидатов на прием"
      ]
    },
    {
      "cell_type": "code",
      "execution_count": null,
      "metadata": {
        "id": "3MZ3uBi1bTzD",
        "outputId": "738c568f-e7ba-4193-c89d-43dfb5c0f81d"
      },
      "outputs": [
        {
          "data": {
            "text/html": [
              "<div>\n",
              "<style scoped>\n",
              "    .dataframe tbody tr th:only-of-type {\n",
              "        vertical-align: middle;\n",
              "    }\n",
              "\n",
              "    .dataframe tbody tr th {\n",
              "        vertical-align: top;\n",
              "    }\n",
              "\n",
              "    .dataframe thead th {\n",
              "        text-align: right;\n",
              "    }\n",
              "</style>\n",
              "<table border=\"1\" class=\"dataframe\">\n",
              "  <thead>\n",
              "    <tr style=\"text-align: right;\">\n",
              "      <th></th>\n",
              "      <th>0</th>\n",
              "      <th>1</th>\n",
              "    </tr>\n",
              "  </thead>\n",
              "  <tbody>\n",
              "    <tr>\n",
              "      <th>0</th>\n",
              "      <td>Simon Roup</td>\n",
              "      <td>0.35294117647058823529</td>\n",
              "    </tr>\n",
              "    <tr>\n",
              "      <th>1</th>\n",
              "      <td>Brannon Miller</td>\n",
              "      <td>0.38095238095238095238</td>\n",
              "    </tr>\n",
              "    <tr>\n",
              "      <th>2</th>\n",
              "      <td>Michael Albert</td>\n",
              "      <td>0.40909090909090909091</td>\n",
              "    </tr>\n",
              "    <tr>\n",
              "      <th>3</th>\n",
              "      <td>Peter Monroe</td>\n",
              "      <td>0.42857142857142857143</td>\n",
              "    </tr>\n",
              "    <tr>\n",
              "      <th>4</th>\n",
              "      <td>Alex Sweetwater</td>\n",
              "      <td>0.44444444444444444444</td>\n",
              "    </tr>\n",
              "  </tbody>\n",
              "</table>\n",
              "</div>"
            ],
            "text/plain": [
              "                 0                       1\n",
              "0       Simon Roup  0.35294117647058823529\n",
              "1   Brannon Miller  0.38095238095238095238\n",
              "2   Michael Albert  0.40909090909090909091\n",
              "3     Peter Monroe  0.42857142857142857143\n",
              "4  Alex Sweetwater  0.44444444444444444444"
            ]
          },
          "execution_count": 17,
          "metadata": {},
          "output_type": "execute_result"
        }
      ],
      "source": [
        "cur.execute(\n",
        "    '''\n",
        "    SELECT MN, FM * 1.0 / fully AS Result\n",
        "    FROM \n",
        "    (\n",
        "    SELECT \"Manager Name\" AS MN, COUNT(*) filter (WHERE \"Performance Score\" = 'Fully Meets') AS FM, COUNT(*) AS fully\n",
        "    FROM hr_dataset\n",
        "    GROUP BY \"Manager Name\"\n",
        "    ) AS Fr_dump  \n",
        "    ORDER BY Result\n",
        "    '''\n",
        ")\n",
        "F_meets = pd.DataFrame(cur.fetchall())\n",
        "F_meets.head()"
      ]
    },
    {
      "cell_type": "code",
      "execution_count": null,
      "metadata": {
        "id": "epOYM35EbTzE",
        "outputId": "87ecf1e5-777d-4462-e245-6285d969c2d5"
      },
      "outputs": [
        {
          "data": {
            "image/png": "[encoded data removed]",
            "text/plain": [
              "<Figure size 864x432 with 1 Axes>"
            ]
          },
          "metadata": {
            "needs_background": "light"
          },
          "output_type": "display_data"
        }
      ],
      "source": [
        "fig,ax = plt.subplots(figsize=(12,6)) # задаем размер графика\n",
        "ax.bar(F_meets[0], F_meets[1]) # выбираем тип графика и используемые данные\n",
        "\n",
        "# формируем обозначения графика\n",
        "ax.set_title('Отношение принятия на работу менеджерами')\n",
        "ax.set_xlabel('Менеджер')\n",
        "ax.set_ylabel('Коэффициент принятия на работу')\n",
        "ax.tick_params(axis='x', rotation=90)\n",
        "# выводим результат\n",
        "plt.show()"
      ]
    },
    {
      "cell_type": "markdown",
      "metadata": {
        "id": "Ys67F2LAbTzF"
      },
      "source": [
        "По результату применения коэффициента видно, что действительно есть зависимость между perfomance score и тем, под чьим руководством работает сотрудник. Хуже всех с приемом справляется Simon Roup, а лучше Brian Champaigne и Board of Directors"
      ]
    },
    {
      "cell_type": "code",
      "execution_count": null,
      "metadata": {
        "id": "5v4CpORmbTzG",
        "outputId": "ce6dec37-88b3-4ac8-f584-f93d0fcfe19b"
      },
      "outputs": [
        {
          "data": {
            "text/html": [
              "<div>\n",
              "<style scoped>\n",
              "    .dataframe tbody tr th:only-of-type {\n",
              "        vertical-align: middle;\n",
              "    }\n",
              "\n",
              "    .dataframe tbody tr th {\n",
              "        vertical-align: top;\n",
              "    }\n",
              "\n",
              "    .dataframe thead th {\n",
              "        text-align: right;\n",
              "    }\n",
              "</style>\n",
              "<table border=\"1\" class=\"dataframe\">\n",
              "  <thead>\n",
              "    <tr style=\"text-align: right;\">\n",
              "      <th></th>\n",
              "      <th>0</th>\n",
              "      <th>1</th>\n",
              "    </tr>\n",
              "  </thead>\n",
              "  <tbody>\n",
              "    <tr>\n",
              "      <th>0</th>\n",
              "      <td>None</td>\n",
              "      <td>0E-20</td>\n",
              "    </tr>\n",
              "    <tr>\n",
              "      <th>1</th>\n",
              "      <td>Brannon Miller</td>\n",
              "      <td>0.38095238095238095238</td>\n",
              "    </tr>\n",
              "    <tr>\n",
              "      <th>2</th>\n",
              "      <td>Michael Albert</td>\n",
              "      <td>0.43478260869565217391</td>\n",
              "    </tr>\n",
              "    <tr>\n",
              "      <th>3</th>\n",
              "      <td>Amy Dunn</td>\n",
              "      <td>0.52380952380952380952</td>\n",
              "    </tr>\n",
              "    <tr>\n",
              "      <th>4</th>\n",
              "      <td>Webster Butler</td>\n",
              "      <td>0.52380952380952380952</td>\n",
              "    </tr>\n",
              "  </tbody>\n",
              "</table>\n",
              "</div>"
            ],
            "text/plain": [
              "                0                       1\n",
              "0            None                   0E-20\n",
              "1  Brannon Miller  0.38095238095238095238\n",
              "2  Michael Albert  0.43478260869565217391\n",
              "3        Amy Dunn  0.52380952380952380952\n",
              "4  Webster Butler  0.52380952380952380952"
            ]
          },
          "execution_count": 19,
          "metadata": {},
          "output_type": "execute_result"
        }
      ],
      "source": [
        "cur.execute(\n",
        "    '''\n",
        "    SELECT MN, FM * 1.0 / fully AS Result\n",
        "    FROM \n",
        "    (\n",
        "    SELECT \"Manager Name\" AS MN, COUNT(*) filter (WHERE \"Performance Score\" = 'Fully Meets') AS FM, COUNT(*) AS fully\n",
        "    FROM production_staff\n",
        "    GROUP BY \"Manager Name\"\n",
        "    ) AS Pr_dump  \n",
        "    ORDER BY Result\n",
        "    '''\n",
        ")\n",
        "P_meets = pd.DataFrame(cur.fetchall())\n",
        "P_meets.head()"
      ]
    },
    {
      "cell_type": "code",
      "execution_count": null,
      "metadata": {
        "id": "_p20PiDMbTzH",
        "outputId": "6d3a7345-ce2b-4802-e4f8-41b2ad720ea4"
      },
      "outputs": [
        {
          "data": {
            "image/png": "[encoded data removed]",
            "text/plain": [
              "<Figure size 864x432 with 1 Axes>"
            ]
          },
          "metadata": {
            "needs_background": "light"
          },
          "output_type": "display_data"
        }
      ],
      "source": [
        "P_meets = P_meets.dropna()\n",
        "fig,ax = plt.subplots(figsize=(12,6)) # задаем размер графика\n",
        "ax.bar(P_meets[0], P_meets[1]) # выбираем тип графика и используемые данные\n",
        "\n",
        "# формируем обозначения графика\n",
        "ax.set_title('Отношение принятия на работу менеджерами')\n",
        "ax.set_xlabel('Менеджер')\n",
        "ax.set_ylabel('Коэффициент принятия на работу')\n",
        "ax.tick_params(axis='x', rotation=90)\n",
        "# выводим результат\n",
        "plt.show()"
      ]
    },
    {
      "cell_type": "markdown",
      "metadata": {
        "id": "t2k6eAZybTzJ"
      },
      "source": [
        "Также в среде product staff проверили эффективность работы менеджеров. Видно, что лучше всео справляется Elisa Bramante, а хуже всех Brannon Miller"
      ]
    },
    {
      "cell_type": "markdown",
      "metadata": {
        "id": "rmqcBCZ2bTzJ"
      },
      "source": [
        "Для проверки гипотезы, что есть зависимость между продолжительностью работы в компании и семейным положением сотрудника, было принято сравнить среднее значения времени работы"
      ]
    },
    {
      "cell_type": "code",
      "execution_count": null,
      "metadata": {
        "id": "pemT6m4hbTzK",
        "outputId": "cc7905b1-bac8-46ad-d662-115c868d03eb"
      },
      "outputs": [
        {
          "data": {
            "text/html": [
              "<div>\n",
              "<style scoped>\n",
              "    .dataframe tbody tr th:only-of-type {\n",
              "        vertical-align: middle;\n",
              "    }\n",
              "\n",
              "    .dataframe tbody tr th {\n",
              "        vertical-align: top;\n",
              "    }\n",
              "\n",
              "    .dataframe thead th {\n",
              "        text-align: right;\n",
              "    }\n",
              "</style>\n",
              "<table border=\"1\" class=\"dataframe\">\n",
              "  <thead>\n",
              "    <tr style=\"text-align: right;\">\n",
              "      <th></th>\n",
              "      <th>0</th>\n",
              "      <th>1</th>\n",
              "    </tr>\n",
              "  </thead>\n",
              "  <tbody>\n",
              "    <tr>\n",
              "      <th>0</th>\n",
              "      <td>0</td>\n",
              "      <td>1328.8663101604278075</td>\n",
              "    </tr>\n",
              "    <tr>\n",
              "      <th>1</th>\n",
              "      <td>1</td>\n",
              "      <td>1246.2357723577235772</td>\n",
              "    </tr>\n",
              "  </tbody>\n",
              "</table>\n",
              "</div>"
            ],
            "text/plain": [
              "   0                      1\n",
              "0  0  1328.8663101604278075\n",
              "1  1  1246.2357723577235772"
            ]
          },
          "execution_count": 21,
          "metadata": {},
          "output_type": "execute_result"
        }
      ],
      "source": [
        "cur.execute(\n",
        "    '''\n",
        "    SELECT \"marriedid\", AVG(\"Days Employed\")\n",
        "    FROM hr_dataset\n",
        "    GROUP BY \"marriedid\"\n",
        "    '''\n",
        ")\n",
        "married = pd.DataFrame(cur.fetchall())\n",
        "married"
      ]
    },
    {
      "cell_type": "markdown",
      "metadata": {
        "id": "6-D0byG3bTzL"
      },
      "source": [
        "Видимого отличия нет, женатые и неженатые сотрудники работаю в среднем одинаковое кол-во дней"
      ]
    },
    {
      "cell_type": "markdown",
      "metadata": {
        "id": "toUcZSr9bTzL"
      },
      "source": [
        "Проверяем гипотезу, что есть зависимость между продолжительностью работы в компании и возрастом сотрудника, через отношение к средним дням работы"
      ]
    },
    {
      "cell_type": "code",
      "execution_count": null,
      "metadata": {
        "id": "9Y8GZ9NgbTzM",
        "outputId": "6b301563-3fb4-4f3d-bfc7-bdcabba4d613"
      },
      "outputs": [
        {
          "data": {
            "text/html": [
              "<div>\n",
              "<style scoped>\n",
              "    .dataframe tbody tr th:only-of-type {\n",
              "        vertical-align: middle;\n",
              "    }\n",
              "\n",
              "    .dataframe tbody tr th {\n",
              "        vertical-align: top;\n",
              "    }\n",
              "\n",
              "    .dataframe thead th {\n",
              "        text-align: right;\n",
              "    }\n",
              "</style>\n",
              "<table border=\"1\" class=\"dataframe\">\n",
              "  <thead>\n",
              "    <tr style=\"text-align: right;\">\n",
              "      <th></th>\n",
              "      <th>0</th>\n",
              "      <th>1</th>\n",
              "    </tr>\n",
              "  </thead>\n",
              "  <tbody>\n",
              "    <tr>\n",
              "      <th>0</th>\n",
              "      <td>25-30</td>\n",
              "      <td>1283.7647058823529412</td>\n",
              "    </tr>\n",
              "    <tr>\n",
              "      <th>1</th>\n",
              "      <td>31-35</td>\n",
              "      <td>1216.4069767441860465</td>\n",
              "    </tr>\n",
              "    <tr>\n",
              "      <th>2</th>\n",
              "      <td>36-40</td>\n",
              "      <td>1418.1864406779661017</td>\n",
              "    </tr>\n",
              "    <tr>\n",
              "      <th>3</th>\n",
              "      <td>41-45</td>\n",
              "      <td>1259.3684210526315789</td>\n",
              "    </tr>\n",
              "    <tr>\n",
              "      <th>4</th>\n",
              "      <td>46-50</td>\n",
              "      <td>1449.4137931034482759</td>\n",
              "    </tr>\n",
              "  </tbody>\n",
              "</table>\n",
              "</div>"
            ],
            "text/plain": [
              "       0                      1\n",
              "0  25-30  1283.7647058823529412\n",
              "1  31-35  1216.4069767441860465\n",
              "2  36-40  1418.1864406779661017\n",
              "3  41-45  1259.3684210526315789\n",
              "4  46-50  1449.4137931034482759"
            ]
          },
          "execution_count": 22,
          "metadata": {},
          "output_type": "execute_result"
        }
      ],
      "source": [
        "cur.execute(\n",
        "    '''\n",
        "    SELECT \"age_group\", AVG(\"Days Employed\")\n",
        "    FROM (SELECT \"age\", \"Days Employed\", \n",
        "    CASE \n",
        "        WHEN \"age\" >= 25 AND \"age\" <= 30 THEN '25-30'\n",
        "        WHEN \"age\" > 30 AND \"age\" <= 35 THEN '31-35'\n",
        "        WHEN \"age\" > 35 AND \"age\" <= 40 THEN '36-40'\n",
        "        WHEN \"age\" > 41 AND \"age\" <= 45 THEN '41-45'\n",
        "        WHEN \"age\" > 45 AND \"age\" <= 50 THEN '46-50'\n",
        "        WHEN \"age\" > 51 AND \"age\" <= 55 THEN '51-55'\n",
        "        WHEN \"age\" > 55 AND \"age\" <= 60 THEN '56-60'\n",
        "        WHEN \"age\" > 60 AND \"age\" <= 67 THEN '61-65'\n",
        "        ELSE 'Other category'\n",
        "    END AS \"age_group\"\n",
        "    FROM hr_dataset) AS dump_case\n",
        "    GROUP BY \"age_group\"\n",
        "    ORDER BY \"age_group\"\n",
        "    '''\n",
        ")\n",
        "age = pd.DataFrame(cur.fetchall())\n",
        "age = age.dropna()\n",
        "age.head()"
      ]
    },
    {
      "cell_type": "code",
      "execution_count": null,
      "metadata": {
        "id": "G4nlPBfJbTzM",
        "outputId": "5052c7d8-43a6-4c0f-9968-d0f1ae782bf9"
      },
      "outputs": [
        {
          "data": {
            "image/png": "[encoded data removed]",
            "text/plain": [
              "<Figure size 864x432 with 1 Axes>"
            ]
          },
          "metadata": {
            "needs_background": "light"
          },
          "output_type": "display_data"
        }
      ],
      "source": [
        "fig,ax = plt.subplots(figsize=(12,6)) # задаем размер графика\n",
        "ax.bar(age[0], age[1]) # выбираем тип графика и используемые данные\n",
        "\n",
        "# формируем обозначения графика\n",
        "ax.set_title('Среднее кол-во дней работы к возрасту')\n",
        "ax.set_xlabel('Возрастная группа')\n",
        "ax.set_ylabel('Среднее кол-во дней работы')\n",
        "ax.tick_params(axis='x', rotation=90)\n",
        "# выводим результат\n",
        "plt.show()"
      ]
    },
    {
      "cell_type": "markdown",
      "metadata": {
        "id": "DBA_Yqa5bTzN"
      },
      "source": [
        "Зависимости по возрасту не найдено"
      ]
    },
    {
      "cell_type": "markdown",
      "metadata": {
        "id": "57dp8WUzbTzO"
      },
      "source": [
        "Проверим ряд гипотез на влияние параметров Рассы на зарплату"
      ]
    },
    {
      "cell_type": "code",
      "execution_count": null,
      "metadata": {
        "id": "v0_Pub_1bTzO",
        "outputId": "e853131f-7ec9-4a3d-e451-12ade579a18b"
      },
      "outputs": [
        {
          "data": {
            "text/html": [
              "<div>\n",
              "<style scoped>\n",
              "    .dataframe tbody tr th:only-of-type {\n",
              "        vertical-align: middle;\n",
              "    }\n",
              "\n",
              "    .dataframe tbody tr th {\n",
              "        vertical-align: top;\n",
              "    }\n",
              "\n",
              "    .dataframe thead th {\n",
              "        text-align: right;\n",
              "    }\n",
              "</style>\n",
              "<table border=\"1\" class=\"dataframe\">\n",
              "  <thead>\n",
              "    <tr style=\"text-align: right;\">\n",
              "      <th></th>\n",
              "      <th>0</th>\n",
              "      <th>1</th>\n",
              "    </tr>\n",
              "  </thead>\n",
              "  <tbody>\n",
              "    <tr>\n",
              "      <th>0</th>\n",
              "      <td>Two or more races</td>\n",
              "      <td>18.5260000000000000</td>\n",
              "    </tr>\n",
              "    <tr>\n",
              "      <th>1</th>\n",
              "      <td>American Indian or Alaska Native</td>\n",
              "      <td>21.8333333333333333</td>\n",
              "    </tr>\n",
              "    <tr>\n",
              "      <th>2</th>\n",
              "      <td>Asian</td>\n",
              "      <td>22.8045454545454545</td>\n",
              "    </tr>\n",
              "    <tr>\n",
              "      <th>3</th>\n",
              "      <td>White</td>\n",
              "      <td>22.9920714285714286</td>\n",
              "    </tr>\n",
              "    <tr>\n",
              "      <th>4</th>\n",
              "      <td>Black or African American</td>\n",
              "      <td>23.3419354838709677</td>\n",
              "    </tr>\n",
              "  </tbody>\n",
              "</table>\n",
              "</div>"
            ],
            "text/plain": [
              "                                  0                    1\n",
              "0                 Two or more races  18.5260000000000000\n",
              "1  American Indian or Alaska Native  21.8333333333333333\n",
              "2                             Asian  22.8045454545454545\n",
              "3                             White  22.9920714285714286\n",
              "4         Black or African American  23.3419354838709677"
            ]
          },
          "execution_count": 24,
          "metadata": {},
          "output_type": "execute_result"
        }
      ],
      "source": [
        "cur.execute(\n",
        "    '''\n",
        "    SELECT \"Race Desc\", AVG(CAST(\"Pay\" AS DECIMAL(18,3))) AS Result\n",
        "    FROM production_staff\n",
        "    GROUP BY \"Race Desc\"\n",
        "    ORDER BY Result\n",
        "    '''\n",
        ")\n",
        "Race_pay = pd.DataFrame(cur.fetchall())\n",
        "Race_pay = Race_pay.dropna()\n",
        "Race_pay.head()"
      ]
    },
    {
      "cell_type": "code",
      "execution_count": null,
      "metadata": {
        "id": "7a2NUC5NbTzP",
        "outputId": "e25c1ce7-74ea-4cee-b7e4-10f4eb77c759"
      },
      "outputs": [
        {
          "data": {
            "image/png": "[encoded data removed]",
            "text/plain": [
              "<Figure size 864x432 with 1 Axes>"
            ]
          },
          "metadata": {
            "needs_background": "light"
          },
          "output_type": "display_data"
        }
      ],
      "source": [
        "fig,ax = plt.subplots(figsize=(12,6)) # задаем размер графика\n",
        "ax.bar(Race_pay[0], Race_pay[1]) # выбираем тип графика и используемые данные\n",
        "\n",
        "# формируем обозначения графика\n",
        "ax.set_title('Средняя зп к расе')\n",
        "ax.set_xlabel('Расовая группа')\n",
        "ax.set_ylabel('Среднее зп')\n",
        "ax.tick_params(axis='x', rotation=90)\n",
        "# выводим результат\n",
        "plt.show()"
      ]
    },
    {
      "cell_type": "markdown",
      "metadata": {
        "id": "afOfBUCmbTzQ"
      },
      "source": [
        "По результату видно, что больше всего зп получают люди рассы Hispanic, а люди с двумя и более получают меньше"
      ]
    },
    {
      "cell_type": "markdown",
      "metadata": {
        "id": "kM9-_KIObTzQ"
      },
      "source": [
        "Проанализируем влияние пола и рассы на зп"
      ]
    },
    {
      "cell_type": "code",
      "execution_count": null,
      "metadata": {
        "id": "2QbBOLONbTzQ",
        "outputId": "065ff6ad-3b01-4491-f87f-1125619669f5"
      },
      "outputs": [
        {
          "data": {
            "text/html": [
              "<div>\n",
              "<style scoped>\n",
              "    .dataframe tbody tr th:only-of-type {\n",
              "        vertical-align: middle;\n",
              "    }\n",
              "\n",
              "    .dataframe tbody tr th {\n",
              "        vertical-align: top;\n",
              "    }\n",
              "\n",
              "    .dataframe thead th {\n",
              "        text-align: right;\n",
              "    }\n",
              "</style>\n",
              "<table border=\"1\" class=\"dataframe\">\n",
              "  <thead>\n",
              "    <tr style=\"text-align: right;\">\n",
              "      <th></th>\n",
              "      <th>0</th>\n",
              "      <th>1</th>\n",
              "    </tr>\n",
              "  </thead>\n",
              "  <tbody>\n",
              "    <tr>\n",
              "      <th>0</th>\n",
              "      <td>White</td>\n",
              "      <td>31.595663</td>\n",
              "    </tr>\n",
              "    <tr>\n",
              "      <th>1</th>\n",
              "      <td>Black or African American</td>\n",
              "      <td>35.328800</td>\n",
              "    </tr>\n",
              "    <tr>\n",
              "      <th>2</th>\n",
              "      <td>American Indian or Alaska Native</td>\n",
              "      <td>36.000000</td>\n",
              "    </tr>\n",
              "    <tr>\n",
              "      <th>3</th>\n",
              "      <td>Asian</td>\n",
              "      <td>36.830769</td>\n",
              "    </tr>\n",
              "    <tr>\n",
              "      <th>4</th>\n",
              "      <td>Two or more races</td>\n",
              "      <td>40.465714</td>\n",
              "    </tr>\n",
              "  </tbody>\n",
              "</table>\n",
              "</div>"
            ],
            "text/plain": [
              "                                  0          1\n",
              "0                             White  31.595663\n",
              "1         Black or African American  35.328800\n",
              "2  American Indian or Alaska Native  36.000000\n",
              "3                             Asian  36.830769\n",
              "4                 Two or more races  40.465714"
            ]
          },
          "execution_count": 72,
          "metadata": {},
          "output_type": "execute_result"
        }
      ],
      "source": [
        "cur.execute(\n",
        "    '''\n",
        "    SELECT \"racedesc\", AVG(\"Pay Rate\") AS pay\n",
        "    FROM hr_dataset\n",
        "    WHERE \"sex\" = 'Male'\n",
        "    GROUP BY \"racedesc\"\n",
        "    ORDER BY pay\n",
        "    '''\n",
        ")\n",
        "Race_sex_pay_male = pd.DataFrame(cur.fetchall())\n",
        "Race_sex_pay_male = Race_sex_pay_male.dropna()\n",
        "Race_sex_pay_male.head()"
      ]
    },
    {
      "cell_type": "code",
      "execution_count": null,
      "metadata": {
        "id": "gjuMvJ9cbTzR",
        "outputId": "88771467-b208-4463-88bf-fd04f78891f2"
      },
      "outputs": [
        {
          "data": {
            "image/png": "[encoded data removed]",
            "text/plain": [
              "<Figure size 864x432 with 1 Axes>"
            ]
          },
          "metadata": {
            "needs_background": "light"
          },
          "output_type": "display_data"
        }
      ],
      "source": [
        "fig,ax = plt.subplots(figsize=(12,6)) # задаем размер графика\n",
        "ax.bar(Race_sex_pay_male[0], Race_sex_pay_male[1]) # выбираем тип графика и используемые данные\n",
        "\n",
        "# формируем обозначения графика\n",
        "ax.set_title('Средняя зп к расе и полу')\n",
        "ax.set_xlabel('Расового группа')\n",
        "ax.set_ylabel('Среднее зп')\n",
        "ax.tick_params(axis='x', rotation=90)\n",
        "# выводим результат\n",
        "plt.show()"
      ]
    },
    {
      "cell_type": "code",
      "execution_count": null,
      "metadata": {
        "id": "C5S9_upGbTzS",
        "outputId": "f863b928-f5e6-40ad-df52-37c8db0633ed"
      },
      "outputs": [
        {
          "data": {
            "text/html": [
              "<div>\n",
              "<style scoped>\n",
              "    .dataframe tbody tr th:only-of-type {\n",
              "        vertical-align: middle;\n",
              "    }\n",
              "\n",
              "    .dataframe tbody tr th {\n",
              "        vertical-align: top;\n",
              "    }\n",
              "\n",
              "    .dataframe thead th {\n",
              "        text-align: right;\n",
              "    }\n",
              "</style>\n",
              "<table border=\"1\" class=\"dataframe\">\n",
              "  <thead>\n",
              "    <tr style=\"text-align: right;\">\n",
              "      <th></th>\n",
              "      <th>0</th>\n",
              "      <th>1</th>\n",
              "    </tr>\n",
              "  </thead>\n",
              "  <tbody>\n",
              "    <tr>\n",
              "      <th>0</th>\n",
              "      <td>Hispanic</td>\n",
              "      <td>17.000000</td>\n",
              "    </tr>\n",
              "    <tr>\n",
              "      <th>1</th>\n",
              "      <td>American Indian or Alaska Native</td>\n",
              "      <td>24.750000</td>\n",
              "    </tr>\n",
              "    <tr>\n",
              "      <th>2</th>\n",
              "      <td>Two or more races</td>\n",
              "      <td>25.409091</td>\n",
              "    </tr>\n",
              "    <tr>\n",
              "      <th>3</th>\n",
              "      <td>Asian</td>\n",
              "      <td>27.969524</td>\n",
              "    </tr>\n",
              "    <tr>\n",
              "      <th>4</th>\n",
              "      <td>White</td>\n",
              "      <td>28.651818</td>\n",
              "    </tr>\n",
              "  </tbody>\n",
              "</table>\n",
              "</div>"
            ],
            "text/plain": [
              "                                  0          1\n",
              "0                          Hispanic  17.000000\n",
              "1  American Indian or Alaska Native  24.750000\n",
              "2                 Two or more races  25.409091\n",
              "3                             Asian  27.969524\n",
              "4                             White  28.651818"
            ]
          },
          "execution_count": 75,
          "metadata": {},
          "output_type": "execute_result"
        }
      ],
      "source": [
        "cur.execute(\n",
        "    '''\n",
        "    SELECT \"racedesc\", AVG(\"Pay Rate\") AS pay\n",
        "    FROM hr_dataset\n",
        "    WHERE \"sex\" = 'Female'\n",
        "    GROUP BY \"racedesc\"\n",
        "    ORDER BY pay\n",
        "    '''\n",
        ")\n",
        "Race_sex_pay_female = pd.DataFrame(cur.fetchall())\n",
        "Race_sex_pay_female = Race_sex_pay_female.dropna()\n",
        "Race_sex_pay_female.head()"
      ]
    },
    {
      "cell_type": "code",
      "execution_count": null,
      "metadata": {
        "id": "x-Rd_nH-bTzS",
        "outputId": "d6181dd0-6e5a-4a06-c3e1-9e0352985090"
      },
      "outputs": [
        {
          "data": {
            "image/png": "[encoded data removed]",
            "text/plain": [
              "<Figure size 864x432 with 1 Axes>"
            ]
          },
          "metadata": {
            "needs_background": "light"
          },
          "output_type": "display_data"
        }
      ],
      "source": [
        "fig,ax = plt.subplots(figsize=(12,6)) # задаем размер графика\n",
        "ax.bar(Race_sex_pay_female[0], Race_sex_pay_female[1]) # выбираем тип графика и используемые данные\n",
        "\n",
        "# формируем обозначения графика\n",
        "ax.set_title('Средняя зп к расе и полу')\n",
        "ax.set_xlabel('Расового группа')\n",
        "ax.set_ylabel('Среднее зп')\n",
        "ax.tick_params(axis='x', rotation=90)\n",
        "# выводим результат\n",
        "plt.show()"
      ]
    },
    {
      "cell_type": "markdown",
      "metadata": {
        "id": "3uQBFPjJbTzT"
      },
      "source": [
        "По приведенному анализу получается, что среди мужчин больше всего зарплату получают люди рассы Hispanic и меньше рассы White.\n",
        "Среди женщин больше зарплату получают Black or Afican American и меньше всего Hispanic "
      ]
    },
    {
      "cell_type": "markdown",
      "metadata": {
        "id": "rNselj7kbTzT"
      },
      "source": [
        "Проверим гипотезу зависимости ЗП от возраста"
      ]
    },
    {
      "cell_type": "code",
      "execution_count": null,
      "metadata": {
        "id": "DjhHWUpXbTzU",
        "outputId": "e19eab93-76b3-48c9-e008-ddcb711eb27f"
      },
      "outputs": [
        {
          "data": {
            "text/html": [
              "<div>\n",
              "<style scoped>\n",
              "    .dataframe tbody tr th:only-of-type {\n",
              "        vertical-align: middle;\n",
              "    }\n",
              "\n",
              "    .dataframe tbody tr th {\n",
              "        vertical-align: top;\n",
              "    }\n",
              "\n",
              "    .dataframe thead th {\n",
              "        text-align: right;\n",
              "    }\n",
              "</style>\n",
              "<table border=\"1\" class=\"dataframe\">\n",
              "  <thead>\n",
              "    <tr style=\"text-align: right;\">\n",
              "      <th></th>\n",
              "      <th>0</th>\n",
              "      <th>1</th>\n",
              "    </tr>\n",
              "  </thead>\n",
              "  <tbody>\n",
              "    <tr>\n",
              "      <th>0</th>\n",
              "      <td>25-30</td>\n",
              "      <td>1283.7647058823529412</td>\n",
              "    </tr>\n",
              "    <tr>\n",
              "      <th>1</th>\n",
              "      <td>31-35</td>\n",
              "      <td>1216.4069767441860465</td>\n",
              "    </tr>\n",
              "    <tr>\n",
              "      <th>2</th>\n",
              "      <td>36-40</td>\n",
              "      <td>1418.1864406779661017</td>\n",
              "    </tr>\n",
              "    <tr>\n",
              "      <th>3</th>\n",
              "      <td>41-45</td>\n",
              "      <td>1259.3684210526315789</td>\n",
              "    </tr>\n",
              "    <tr>\n",
              "      <th>4</th>\n",
              "      <td>46-50</td>\n",
              "      <td>1449.4137931034482759</td>\n",
              "    </tr>\n",
              "  </tbody>\n",
              "</table>\n",
              "</div>"
            ],
            "text/plain": [
              "       0                      1\n",
              "0  25-30  1283.7647058823529412\n",
              "1  31-35  1216.4069767441860465\n",
              "2  36-40  1418.1864406779661017\n",
              "3  41-45  1259.3684210526315789\n",
              "4  46-50  1449.4137931034482759"
            ]
          },
          "execution_count": 82,
          "metadata": {},
          "output_type": "execute_result"
        }
      ],
      "source": [
        "cur.execute(\n",
        "    '''\n",
        "    SELECT \"age_pay_group\", AVG(\"Pay Rate\")\n",
        "    FROM (SELECT \"age\", \"Pay Rate\", \n",
        "    CASE \n",
        "        WHEN \"age\" >= 25 AND \"age\" <= 30 THEN '25-30'\n",
        "        WHEN \"age\" > 30 AND \"age\" <= 35 THEN '31-35'\n",
        "        WHEN \"age\" > 35 AND \"age\" <= 40 THEN '36-40'\n",
        "        WHEN \"age\" > 41 AND \"age\" <= 45 THEN '41-45'\n",
        "        WHEN \"age\" > 45 AND \"age\" <= 50 THEN '46-50'\n",
        "        WHEN \"age\" > 51 AND \"age\" <= 55 THEN '51-55'\n",
        "        WHEN \"age\" > 55 AND \"age\" <= 60 THEN '56-60'\n",
        "        WHEN \"age\" > 60 AND \"age\" <= 67 THEN '61-65'\n",
        "        ELSE 'Other category'\n",
        "    END AS \"age_pay_group\"\n",
        "    FROM hr_dataset) AS dump_case_pay\n",
        "    GROUP BY \"age_pay_group\"\n",
        "    ORDER BY \"age_pay_group\"\n",
        "    '''\n",
        ")\n",
        "age_pay = pd.DataFrame(cur.fetchall())\n",
        "age_pay = age.dropna()\n",
        "age_pay.head()"
      ]
    },
    {
      "cell_type": "code",
      "execution_count": null,
      "metadata": {
        "id": "xZXDqR-QbTzU",
        "outputId": "512bf8ad-fb2b-400f-95ec-594c0b16bd62"
      },
      "outputs": [
        {
          "data": {
            "image/png": "[encoded data removed]",
            "text/plain": [
              "<Figure size 864x432 with 1 Axes>"
            ]
          },
          "metadata": {
            "needs_background": "light"
          },
          "output_type": "display_data"
        }
      ],
      "source": [
        "fig,ax = plt.subplots(figsize=(12,6)) # задаем размер графика\n",
        "ax.bar(age_pay[0], age_pay[1]) # выбираем тип графика и используемые данные\n",
        "\n",
        "# формируем обозначения графика\n",
        "ax.set_title('Средняя ЗП к возрасту')\n",
        "ax.set_xlabel('Возрастная группа')\n",
        "ax.set_ylabel('Средняя ЗП')\n",
        "ax.tick_params(axis='x', rotation=90)\n",
        "# выводим результат\n",
        "plt.show()"
      ]
    },
    {
      "cell_type": "markdown",
      "metadata": {
        "id": "Q8HkUdefbTzV"
      },
      "source": [
        "Зависимости не обнаружено"
      ]
    },
    {
      "cell_type": "markdown",
      "metadata": {
        "id": "5OXer84FHVAU"
      },
      "source": [
        "## Часть вторая"
      ]
    },
    {
      "cell_type": "markdown",
      "metadata": {
        "id": "8vS_kLIvHVAV"
      },
      "source": [
        "Перед вами стоит задача – подготовить аналитический ответ для SMM-отдела компании Skillbox. <br> Объектом анализа является  [паблик Skillbox Вконтакте](https://vk.com/skillbox_education). <br> <br> \n",
        "Подключитесь к  API VK и выгрузите посты со стены паблика Skillbox за интересующий период (определите самостоятельно и обоснуйте). Проанализируйте влияние различных факторов (например, времени публикации) на вовлеченность пользователей (количество лайков, комментариев, голосов в опросах). Сделайте аналитику по рубрикам (примеры рубрик: дизайн-битва, игра по управлению), которые есть в паблике. Выбрать нужные посты можно с помощью регулярных выражений. Составьте перечень рекомандаций для SMM-отдела по итогам анализа. <br> <br> \n",
        "\n",
        "Дополнительные инструкции по работе с API VK расположены [здесь](https://colab.research.google.com/drive/1rRaTay-OSPLAOX8V9UaFvTiAciVtp2s3)."
      ]
    },
    {
      "cell_type": "code",
      "execution_count": null,
      "metadata": {
        "id": "7SzjqiQLHVAW",
        "outputId": "01744915-15fe-4506-b542-9337319521ad"
      },
      "outputs": [
        {
          "data": {
            "text/html": [
              "<div>\n",
              "<style scoped>\n",
              "    .dataframe tbody tr th:only-of-type {\n",
              "        vertical-align: middle;\n",
              "    }\n",
              "\n",
              "    .dataframe tbody tr th {\n",
              "        vertical-align: top;\n",
              "    }\n",
              "\n",
              "    .dataframe thead th {\n",
              "        text-align: right;\n",
              "    }\n",
              "</style>\n",
              "<table border=\"1\" class=\"dataframe\">\n",
              "  <thead>\n",
              "    <tr style=\"text-align: right;\">\n",
              "      <th></th>\n",
              "      <th>data</th>\n",
              "      <th>time</th>\n",
              "      <th>likes</th>\n",
              "      <th>text</th>\n",
              "      <th>comments</th>\n",
              "      <th>views</th>\n",
              "    </tr>\n",
              "  </thead>\n",
              "  <tbody>\n",
              "    <tr>\n",
              "      <th>0</th>\n",
              "      <td>2021-09-30</td>\n",
              "      <td>18:00:00</td>\n",
              "      <td>205</td>\n",
              "      <td>Сегодня разберем теорию цвета Иоханнеса Иттена...</td>\n",
              "      <td>0</td>\n",
              "      <td>12956</td>\n",
              "    </tr>\n",
              "    <tr>\n",
              "      <th>1</th>\n",
              "      <td>2021-09-30</td>\n",
              "      <td>15:34:39</td>\n",
              "      <td>30</td>\n",
              "      <td>Что делать, если в 28 лет на работе вас называ...</td>\n",
              "      <td>0</td>\n",
              "      <td>10548</td>\n",
              "    </tr>\n",
              "    <tr>\n",
              "      <th>2</th>\n",
              "      <td>2021-09-30</td>\n",
              "      <td>10:25:19</td>\n",
              "      <td>45</td>\n",
              "      <td>Согласны с Пушкиным, что осень — унылая пора? ...</td>\n",
              "      <td>2</td>\n",
              "      <td>11663</td>\n",
              "    </tr>\n",
              "    <tr>\n",
              "      <th>3</th>\n",
              "      <td>2021-09-29</td>\n",
              "      <td>18:00:00</td>\n",
              "      <td>155</td>\n",
              "      <td>Как думаете, можно ли школьную программу освои...</td>\n",
              "      <td>22</td>\n",
              "      <td>16059</td>\n",
              "    </tr>\n",
              "    <tr>\n",
              "      <th>4</th>\n",
              "      <td>2021-09-29</td>\n",
              "      <td>10:21:06</td>\n",
              "      <td>84</td>\n",
              "      <td>Вам когда-нибудь приходила в голову мысль: «Во...</td>\n",
              "      <td>3</td>\n",
              "      <td>16333</td>\n",
              "    </tr>\n",
              "  </tbody>\n",
              "</table>\n",
              "</div>"
            ],
            "text/plain": [
              "         data      time  likes  \\\n",
              "0  2021-09-30  18:00:00    205   \n",
              "1  2021-09-30  15:34:39     30   \n",
              "2  2021-09-30  10:25:19     45   \n",
              "3  2021-09-29  18:00:00    155   \n",
              "4  2021-09-29  10:21:06     84   \n",
              "\n",
              "                                                text  comments  views  \n",
              "0  Сегодня разберем теорию цвета Иоханнеса Иттена...         0  12956  \n",
              "1  Что делать, если в 28 лет на работе вас называ...         0  10548  \n",
              "2  Согласны с Пушкиным, что осень — унылая пора? ...         2  11663  \n",
              "3  Как думаете, можно ли школьную программу освои...        22  16059  \n",
              "4  Вам когда-нибудь приходила в голову мысль: «Во...         3  16333  "
            ]
          },
          "execution_count": 178,
          "metadata": {},
          "output_type": "execute_result"
        }
      ],
      "source": [
        "import requests\n",
        "import csv\n",
        "from datetime import datetime, timedelta\n",
        "\n",
        "def getjson(url):\n",
        "    response = requests.get(url)\n",
        "    response = response.json()\n",
        "    return response\n",
        "\n",
        "vk_token = '6aa1c5f18b127bcaaa00ea7f80303608416188112fa60ac5e5d0a94ec23b58fe2e2399d2924e43b3674ee'\n",
        "\n",
        "\n",
        "url = 'https://api.vk.com/method/account.getProfileInfo?access_token=' + str(vk_token) + '&v=5.92'\n",
        "response = getjson(url)\n",
        "\n",
        "#print(response)\n",
        "\n",
        "# получаем последнюю запись из паблика Skillbox Вконтакте\n",
        "url = 'https://api.vk.com/method/wall.get?access_token=' + str(vk_token) + '&owner_id=-66669811&offset=58&count=100&v=5.92'\n",
        "response = getjson(url)\n",
        "data = response['response']['items']\n",
        "\n",
        "def file_writer(data):\n",
        "    with open('skillboxlikes.csv', 'w', encoding='utf-8') as file:\n",
        "        write = csv.writer(file)\n",
        "        write.writerow(('data', 'time', 'likes', 'text', 'comments', 'views'))\n",
        "        for post in data:\n",
        "                write.writerow(((datetime.fromtimestamp(post['date']) - timedelta(hours=0)).strftime('%Y-%m-%d'),\n",
        "                                (datetime.fromtimestamp(post['date']) - timedelta(hours=0)).strftime('%H:%M:%S'),                                \n",
        "                                post['likes']['count'], post['text'],\n",
        "                               post['comments']['count'], post['views']['count']\n",
        "                               ))\n",
        "            \n",
        "file_writer(data)\n",
        "result = pd.read_csv('skillboxlikes.csv')\n",
        "result.head()\n"
      ]
    },
    {
      "cell_type": "markdown",
      "metadata": {
        "id": "uhmgL_QQbTzX"
      },
      "source": [
        "Проведем анализ 100 постов начиная с конца сентября, чтобы можно было проверить результативность постов, начиная с предыдущего месяца"
      ]
    },
    {
      "cell_type": "code",
      "execution_count": null,
      "metadata": {
        "id": "YdLNNvz5bTzY",
        "outputId": "ef231d10-7463-4cdf-823b-eed4433535f6"
      },
      "outputs": [
        {
          "data": {
            "text/html": [
              "<div>\n",
              "<style scoped>\n",
              "    .dataframe tbody tr th:only-of-type {\n",
              "        vertical-align: middle;\n",
              "    }\n",
              "\n",
              "    .dataframe tbody tr th {\n",
              "        vertical-align: top;\n",
              "    }\n",
              "\n",
              "    .dataframe thead th {\n",
              "        text-align: right;\n",
              "    }\n",
              "</style>\n",
              "<table border=\"1\" class=\"dataframe\">\n",
              "  <thead>\n",
              "    <tr style=\"text-align: right;\">\n",
              "      <th></th>\n",
              "      <th>doc_id</th>\n",
              "      <th>word</th>\n",
              "      <th>dummy</th>\n",
              "    </tr>\n",
              "  </thead>\n",
              "  <tbody>\n",
              "    <tr>\n",
              "      <th>8</th>\n",
              "      <td>0</td>\n",
              "      <td>как</td>\n",
              "      <td>3</td>\n",
              "    </tr>\n",
              "    <tr>\n",
              "      <th>0</th>\n",
              "      <td>0</td>\n",
              "      <td>в</td>\n",
              "      <td>2</td>\n",
              "    </tr>\n",
              "    <tr>\n",
              "      <th>15</th>\n",
              "      <td>0</td>\n",
              "      <td>он</td>\n",
              "      <td>2</td>\n",
              "    </tr>\n",
              "    <tr>\n",
              "      <th>26</th>\n",
              "      <td>0</td>\n",
              "      <td>цвет</td>\n",
              "      <td>2</td>\n",
              "    </tr>\n",
              "    <tr>\n",
              "      <th>27</th>\n",
              "      <td>0</td>\n",
              "      <td>цветовой</td>\n",
              "      <td>1</td>\n",
              "    </tr>\n",
              "    <tr>\n",
              "      <th>25</th>\n",
              "      <td>0</td>\n",
              "      <td>художник</td>\n",
              "      <td>1</td>\n",
              "    </tr>\n",
              "    <tr>\n",
              "      <th>24</th>\n",
              "      <td>0</td>\n",
              "      <td>узнать</td>\n",
              "      <td>1</td>\n",
              "    </tr>\n",
              "    <tr>\n",
              "      <th>23</th>\n",
              "      <td>0</td>\n",
              "      <td>теория</td>\n",
              "      <td>1</td>\n",
              "    </tr>\n",
              "    <tr>\n",
              "      <th>22</th>\n",
              "      <td>0</td>\n",
              "      <td>статья</td>\n",
              "      <td>1</td>\n",
              "    </tr>\n",
              "    <tr>\n",
              "      <th>21</th>\n",
              "      <td>0</td>\n",
              "      <td>сегодня</td>\n",
              "      <td>1</td>\n",
              "    </tr>\n",
              "  </tbody>\n",
              "</table>\n",
              "</div>"
            ],
            "text/plain": [
              "    doc_id      word  dummy\n",
              "8        0       как      3\n",
              "0        0         в      2\n",
              "15       0        он      2\n",
              "26       0      цвет      2\n",
              "27       0  цветовой      1\n",
              "25       0  художник      1\n",
              "24       0    узнать      1\n",
              "23       0    теория      1\n",
              "22       0    статья      1\n",
              "21       0   сегодня      1"
            ]
          },
          "execution_count": 179,
          "metadata": {},
          "output_type": "execute_result"
        }
      ],
      "source": [
        "import re\n",
        "import pymorphy2\n",
        "\n",
        "text_df = result\n",
        "#text_df.dropna()\n",
        "\n",
        "# разбиваем тест на слова\n",
        "corpus = []\n",
        "# регулярка для поиска слов\n",
        "regular_expr = r'\\w+'\n",
        "reg_expr_compiled = re.compile(regular_expr)\n",
        "# формируем датасет из отдельных слов\n",
        "for raw_text in text_df.text.values.astype(str):\n",
        "    # приводим к нижнему регистру\n",
        "    raw_text_lower = raw_text.lower()\n",
        "    # разбиваем текст на слова\n",
        "    text_by_words = reg_expr_compiled.findall(raw_text_lower) \n",
        "    corpus.append(text_by_words)\n",
        "        \n",
        "\n",
        "# нормализация текста\n",
        "normalized_corpus = []\n",
        "morph = pymorphy2.MorphAnalyzer()\n",
        "# нормализуем каждое слово в тексте\n",
        "for token_list in corpus:\n",
        "    normalized_token_list = []\n",
        "    for word in token_list:\n",
        "        parsed_token = morph.parse(word)\n",
        "        normal_form = parsed_token[0].normal_form\n",
        "        normalized_token_list.append(normal_form)\n",
        "    normalized_corpus.append(normalized_token_list)\n",
        "\n",
        "# превращаем в DataFrame\n",
        "doc_count = len(normalized_corpus)\n",
        "doc_ids = []\n",
        "tokens = []\n",
        "# формируем два списка-колонки датафрейма\n",
        "for doc_id in range(doc_count):\n",
        "    for token in normalized_corpus[doc_id]:\n",
        "        doc_ids.append(doc_id)\n",
        "        tokens.append(token)\n",
        "\n",
        "tokens_df = pd.DataFrame({\n",
        "    'doc_id': doc_ids,\n",
        "    'word': tokens\n",
        "})\n",
        "# дамми-столбец\n",
        "tokens_df = tokens_df.assign(dummy = 1)\n",
        "# аггрегируем статистики\n",
        "word_count_df = tokens_df.groupby(['doc_id','word'])['dummy'].count().reset_index()\n",
        "\n",
        "word_count_df[word_count_df.doc_id==0].sort_values(by='dummy', ascending=False).head(10)"
      ]
    },
    {
      "cell_type": "code",
      "execution_count": null,
      "metadata": {
        "id": "Aen2sP6fbTzZ",
        "outputId": "a60cc05c-fd91-49fb-8d6f-d22915d34cde"
      },
      "outputs": [
        {
          "data": {
            "text/html": [
              "<div>\n",
              "<style scoped>\n",
              "    .dataframe tbody tr th:only-of-type {\n",
              "        vertical-align: middle;\n",
              "    }\n",
              "\n",
              "    .dataframe tbody tr th {\n",
              "        vertical-align: top;\n",
              "    }\n",
              "\n",
              "    .dataframe thead th {\n",
              "        text-align: right;\n",
              "    }\n",
              "</style>\n",
              "<table border=\"1\" class=\"dataframe\">\n",
              "  <thead>\n",
              "    <tr style=\"text-align: right;\">\n",
              "      <th></th>\n",
              "      <th>word</th>\n",
              "      <th>d</th>\n",
              "    </tr>\n",
              "  </thead>\n",
              "  <tbody>\n",
              "    <tr>\n",
              "      <th>652</th>\n",
              "      <td>и</td>\n",
              "      <td>88.0</td>\n",
              "    </tr>\n",
              "    <tr>\n",
              "      <th>305</th>\n",
              "      <td>в</td>\n",
              "      <td>87.0</td>\n",
              "    </tr>\n",
              "    <tr>\n",
              "      <th>406</th>\n",
              "      <td>вы</td>\n",
              "      <td>75.0</td>\n",
              "    </tr>\n",
              "    <tr>\n",
              "      <th>1642</th>\n",
              "      <td>с</td>\n",
              "      <td>71.0</td>\n",
              "    </tr>\n",
              "    <tr>\n",
              "      <th>963</th>\n",
              "      <td>на</td>\n",
              "      <td>64.0</td>\n",
              "    </tr>\n",
              "    <tr>\n",
              "      <th>209</th>\n",
              "      <td>а</td>\n",
              "      <td>62.0</td>\n",
              "    </tr>\n",
              "    <tr>\n",
              "      <th>1021</th>\n",
              "      <td>не</td>\n",
              "      <td>59.0</td>\n",
              "    </tr>\n",
              "    <tr>\n",
              "      <th>2040</th>\n",
              "      <td>что</td>\n",
              "      <td>56.0</td>\n",
              "    </tr>\n",
              "    <tr>\n",
              "      <th>124</th>\n",
              "      <td>https</td>\n",
              "      <td>54.0</td>\n",
              "    </tr>\n",
              "    <tr>\n",
              "      <th>957</th>\n",
              "      <td>мы</td>\n",
              "      <td>54.0</td>\n",
              "    </tr>\n",
              "  </tbody>\n",
              "</table>\n",
              "</div>"
            ],
            "text/plain": [
              "       word     d\n",
              "652       и  88.0\n",
              "305       в  87.0\n",
              "406      вы  75.0\n",
              "1642      с  71.0\n",
              "963      на  64.0\n",
              "209       а  62.0\n",
              "1021     не  59.0\n",
              "2040    что  56.0\n",
              "124   https  54.0\n",
              "957      мы  54.0"
            ]
          },
          "execution_count": 180,
          "metadata": {},
          "output_type": "execute_result"
        }
      ],
      "source": [
        "word_count_df_1 = word_count_df.assign(dummy_1 = 1)\n",
        "word_count_df_1 = word_count_df_1.groupby(['word'])['dummy_1'].count().reset_index()\n",
        "m = word_count_df_1.sort_values(by='dummy_1', ascending=False).head(10)\n",
        "\n",
        "doc_frequency = pd.DataFrame()\n",
        "doc_frequency = doc_frequency.assign(word = m['word'], d = (m['dummy_1'] / 100) * 100)\n",
        "doc_frequency.head(10)"
      ]
    },
    {
      "cell_type": "markdown",
      "metadata": {
        "id": "DTdHP63nbTza"
      },
      "source": [
        "Проведем анализ просмотров, лайков и комментов"
      ]
    },
    {
      "cell_type": "code",
      "execution_count": null,
      "metadata": {
        "id": "P3lSqcKpbTza",
        "outputId": "f8321a6d-5a88-49f2-a16a-270aa3adec94"
      },
      "outputs": [
        {
          "data": {
            "text/plain": [
              "[<matplotlib.lines.Line2D at 0x22ea3277880>]"
            ]
          },
          "execution_count": 187,
          "metadata": {},
          "output_type": "execute_result"
        },
        {
          "data": {
            "image/png": "[encoded data removed]",
            "text/plain": [
              "<Figure size 1224x432 with 1 Axes>"
            ]
          },
          "metadata": {
            "needs_background": "light"
          },
          "output_type": "display_data"
        }
      ],
      "source": [
        "import matplotlib\n",
        "import matplotlib.pyplot as plt\n",
        "\n",
        "likes = result.groupby('data')['likes'].sum().reset_index()\n",
        "\n",
        "plt.figure(num=1, figsize=(17, 6)) #размер отрисованного графика\n",
        "\n",
        "plt.title('Like count by date')\n",
        "plt.xlabel('date') #подпись оси x\n",
        "plt.ylabel('count likes') #подпись оси y\n",
        "plt.grid()\n",
        "plt.xticks(rotation=90)\n",
        "plt.plot(likes['data'], likes['likes'], '.') "
      ]
    },
    {
      "cell_type": "code",
      "execution_count": null,
      "metadata": {
        "id": "1AD047kGbTzb",
        "outputId": "64efd776-1384-4547-c63e-ad78bafaf579"
      },
      "outputs": [
        {
          "data": {
            "text/plain": [
              "[<matplotlib.lines.Line2D at 0x22ea126afd0>]"
            ]
          },
          "execution_count": 198,
          "metadata": {},
          "output_type": "execute_result"
        },
        {
          "data": {
            "image/png": "[encoded data removed]",
            "text/plain": [
              "<Figure size 1224x432 with 1 Axes>"
            ]
          },
          "metadata": {
            "needs_background": "light"
          },
          "output_type": "display_data"
        }
      ],
      "source": [
        "views = result.groupby('data')['views'].sum().reset_index()\n",
        "\n",
        "plt.figure(num=1, figsize=(17, 6)) #размер отрисованного графика\n",
        "\n",
        "plt.title('View count by date')\n",
        "plt.xlabel('date') #подпись оси x\n",
        "plt.ylabel('count views') #подпись оси y\n",
        "plt.grid()\n",
        "plt.xticks(rotation=90)\n",
        "plt.plot(views['data'], views['views'], '.') "
      ]
    },
    {
      "cell_type": "code",
      "execution_count": null,
      "metadata": {
        "id": "85EZa2lZbTzb",
        "outputId": "865293e0-64da-49ef-b6b2-ab016c8a1f7a"
      },
      "outputs": [
        {
          "data": {
            "text/plain": [
              "[<matplotlib.lines.Line2D at 0x22ea6e43490>]"
            ]
          },
          "execution_count": 205,
          "metadata": {},
          "output_type": "execute_result"
        },
        {
          "data": {
            "image/png": "[encoded data removed]",
            "text/plain": [
              "<Figure size 1224x432 with 1 Axes>"
            ]
          },
          "metadata": {
            "needs_background": "light"
          },
          "output_type": "display_data"
        }
      ],
      "source": [
        "likeandviews = likes.copy()\n",
        "likeandviews['likes/views'] = likeandviews['likes'] / views['views']\n",
        "\n",
        "plt.figure(num=1, figsize=(17, 6)) #размер отрисованного графика\n",
        "\n",
        "plt.title('Likes / View count by date')\n",
        "plt.xlabel('date') #подпись оси x\n",
        "plt.ylabel('count likes / views') #подпись оси y\n",
        "plt.grid()\n",
        "plt.xticks(rotation=90)\n",
        "plt.plot(likeandviews['data'], likeandviews['likes/views'], '.') \n"
      ]
    },
    {
      "cell_type": "code",
      "execution_count": null,
      "metadata": {
        "id": "QZFyCs4abTzc",
        "outputId": "a5f9a355-b1c5-4a19-d473-5ca1af81dc6b"
      },
      "outputs": [
        {
          "data": {
            "text/plain": [
              "[<matplotlib.lines.Line2D at 0x22ea2194400>]"
            ]
          },
          "execution_count": 184,
          "metadata": {},
          "output_type": "execute_result"
        },
        {
          "data": {
            "image/png": "[encoded data removed]",
            "text/plain": [
              "<Figure size 1224x432 with 1 Axes>"
            ]
          },
          "metadata": {
            "needs_background": "light"
          },
          "output_type": "display_data"
        }
      ],
      "source": [
        "comments = result.groupby('data')['comments'].sum().reset_index()\n",
        "\n",
        "plt.figure(num=1, figsize=(17, 6)) #размер отрисованного графика\n",
        "\n",
        "plt.title('Comments count by date')\n",
        "plt.xlabel('date') #подпись оси x\n",
        "plt.ylabel('count comments') #подпись оси y\n",
        "plt.grid()\n",
        "plt.xticks(rotation=90)\n",
        "plt.plot(comments['data'], comments['comments'], '.') "
      ]
    },
    {
      "cell_type": "markdown",
      "metadata": {
        "id": "wYfoEsKtbTzd"
      },
      "source": [
        "По проведенному анализу видно, что самым результативным днем был 19.08.21 - лучше всего воронка по лайкам/просмотрам и больше всего комментариев. Хуже всего воронка по лайкам/просмотрам была 26.08.21 и 15.09.21"
      ]
    },
    {
      "cell_type": "code",
      "execution_count": null,
      "metadata": {
        "id": "V3r9PSBnbTzd"
      },
      "outputs": [],
      "source": [
        ""
      ]
    }
  ],
  "metadata": {
    "colab": {
      "collapsed_sections": [],
      "name": "Копия блокнота \"Coursework_analytics_2.ipynb\"",
      "provenance": []
    },
    "kernelspec": {
      "display_name": "Python 3",
      "language": "python",
      "name": "python3"
    },
    "language_info": {
      "codemirror_mode": {
        "name": "ipython",
        "version": 3
      },
      "file_extension": ".py",
      "mimetype": "text/x-python",
      "name": "python",
      "nbconvert_exporter": "python",
      "pygments_lexer": "ipython3",
      "version": "3.8.5"
    }
  },
  "nbformat": 4,
  "nbformat_minor": 0
}